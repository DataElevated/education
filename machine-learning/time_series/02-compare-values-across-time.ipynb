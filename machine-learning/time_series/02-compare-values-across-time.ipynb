{
 "cells": [
  {
   "cell_type": "markdown",
   "metadata": {},
   "source": [
    "\n",
    "Goals:\n",
    "1. Get difference in value for a given time period\n",
    "2. Compute percent change over any number of periods\n"
   ]
  },
  {
   "cell_type": "markdown",
   "metadata": {},
   "source": []
  },
  {
   "cell_type": "code",
   "execution_count": 2,
   "metadata": {},
   "outputs": [
    {
     "name": "stdout",
     "output_type": "stream",
     "text": [
      "[*********************100%%**********************]  1 of 1 completed\n",
      "<class 'pandas.core.frame.DataFrame'>\n",
      "DatetimeIndex: 1257 entries, 2018-10-18 to 2023-10-17\n",
      "Data columns (total 6 columns):\n",
      " #   Column     Non-Null Count  Dtype  \n",
      "---  ------     --------------  -----  \n",
      " 0   Open       1257 non-null   float64\n",
      " 1   High       1257 non-null   float64\n",
      " 2   Low        1257 non-null   float64\n",
      " 3   Close      1257 non-null   float64\n",
      " 4   Adj Close  1257 non-null   float64\n",
      " 5   Volume     1257 non-null   int64  \n",
      "dtypes: float64(5), int64(1)\n",
      "memory usage: 68.7 KB\n",
      "None\n",
      "------------------------------------------------------------------------------------------------------------------------\n",
      "Dataframe: \n",
      "------------------------------------------------------------------------------------------------------------------------\n",
      "\n",
      "                  Open        High         Low       Close   Adj Close  Volume\n",
      "Date                                                                          \n",
      "2018-10-18  154.949997  155.320007  152.110001  152.940002  144.494308  362700\n",
      "2018-10-19  154.050003  154.880005  152.119995  152.949997  144.503769  357800\n",
      "2018-10-22  153.789993  155.529999  152.070007  153.919998  145.420181  317600\n",
      "2018-10-23  151.149994  152.919998  149.190002  151.809998  143.426727  425100\n",
      "2018-10-24  151.110001  152.050003  148.850006  148.850006  140.630173  739400\n",
      "------------------------------------------------------------------------------------------------------------------------\n",
      "Series:\n",
      "------------------------------------------------------------------------------------------------------------------------\n",
      "Date\n",
      "2018-10-18    152.940002\n",
      "2018-10-19    152.949997\n",
      "2018-10-22    153.919998\n",
      "2018-10-23    151.809998\n",
      "2018-10-24    148.850006\n",
      "Name: Close, dtype: float64\n"
     ]
    }
   ],
   "source": [
    "import pandas as pd\n",
    "import yfinance as yf\n",
    "import datetime\n",
    "\n",
    "# Set the stock symbol and date range\n",
    "stock_symbol = \"JKHY\"\n",
    "end_date = datetime.date.today()\n",
    "start_date = end_date - pd.DateOffset(years=5)\n",
    "\n",
    "# Fetch the stock data from Yahoo Finance\n",
    "stock_data = yf.download(stock_symbol, start=start_date, end=end_date)\n",
    "print(stock_data.info())\n",
    "# Extract the closing prices for the last 2 years\n",
    "closing_prices_last_5_years = stock_data['Close']\n",
    "\n",
    "print(\"-\" * 120)\n",
    "print('Dataframe: ')\n",
    "print(\"-\" * 120)\n",
    "print()  # This will print an empty line\n",
    "                                                                    \n",
    "print(stock_data.head())\n",
    "\n",
    "print(\"-\" * 120)\n",
    "print('Series:')\n",
    "print(\"-\" * 120)\n",
    "\n",
    "print(closing_prices_last_5_years.head())\n",
    "\n"
   ]
  },
  {
   "cell_type": "markdown",
   "metadata": {},
   "source": [
    "# .shift() moving data between past and future\n"
   ]
  },
  {
   "cell_type": "code",
   "execution_count": 18,
   "metadata": {},
   "outputs": [
    {
     "name": "stdout",
     "output_type": "stream",
     "text": [
      "                 Close  previous_day_close  next_day_close\n",
      "Date                                                      \n",
      "2018-10-18  152.940002                 NaN      152.949997\n",
      "2018-10-19  152.949997          152.940002      153.919998\n",
      "2018-10-22  153.919998          152.949997      151.809998\n",
      "2018-10-23  151.809998          153.919998      148.850006\n",
      "2018-10-24  148.850006          151.809998      150.429993\n"
     ]
    }
   ],
   "source": [
    "# .shift() moving data between past and future\n",
    "\n",
    "stock_data['previous_day_close'] = stock_data.Close.shift() # Moving ahead one period, Default periods=1\n",
    "stock_data['next_day_close'] = stock_data.Close.shift(periods=-1) # Moving back one period, Default periods=1\n",
    "print(stock_data[['Close', 'previous_day_close', 'next_day_close']].head())"
   ]
  },
  {
   "cell_type": "markdown",
   "metadata": {},
   "source": [
    "# Calculate one-period precentage change\n",
    "\n",
    "Percentage Change = ((New Value - Old Value) / Old Value) * 100"
   ]
  },
  {
   "cell_type": "code",
   "execution_count": 22,
   "metadata": {},
   "outputs": [
    {
     "name": "stdout",
     "output_type": "stream",
     "text": [
      "                 Close  previous_day_close  next_day_close    change  \\\n",
      "Date                                                                   \n",
      "2018-10-18  152.940002                 NaN      152.949997       NaN   \n",
      "2018-10-19  152.949997          152.940002      153.919998  1.000065   \n",
      "2018-10-22  153.919998          152.949997      151.809998  1.006342   \n",
      "2018-10-23  151.809998          153.919998      148.850006  0.986292   \n",
      "2018-10-24  148.850006          151.809998      150.429993  0.980502   \n",
      "\n",
      "            percent_change  \n",
      "Date                        \n",
      "2018-10-18             NaN  \n",
      "2018-10-19        0.006535  \n",
      "2018-10-22        0.634195  \n",
      "2018-10-23       -1.370842  \n",
      "2018-10-24       -1.949800  \n"
     ]
    }
   ],
   "source": [
    "stock_data['change_factor'] = stock_data.Close.div(stock_data.previous)\n",
    "stock_data['percent_change'] = ((stock_data['Close'] - stock_data['previous_day_close']) / stock_data['previous_day_close']) * 100\n",
    "print(stock_data[['Close', 'previous_day_close', 'next_day_close', 'change', 'percent_change']].head())"
   ]
  },
  {
   "cell_type": "code",
   "execution_count": null,
   "metadata": {},
   "outputs": [],
   "source": []
  }
 ],
 "metadata": {
  "kernelspec": {
   "display_name": "time-series",
   "language": "python",
   "name": "python3"
  },
  "language_info": {
   "codemirror_mode": {
    "name": "ipython",
    "version": 3
   },
   "file_extension": ".py",
   "mimetype": "text/x-python",
   "name": "python",
   "nbconvert_exporter": "python",
   "pygments_lexer": "ipython3",
   "version": "3.11.5"
  }
 },
 "nbformat": 4,
 "nbformat_minor": 2
}
