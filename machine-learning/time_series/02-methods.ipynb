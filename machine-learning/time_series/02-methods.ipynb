{
 "cells": [
  {
   "cell_type": "markdown",
   "metadata": {},
   "source": [
    "\n",
    "Goals:\n",
    "1. Get difference in value for a given time period\n",
    "2. Compute percent change over any number of periods\n"
   ]
  },
  {
   "cell_type": "markdown",
   "metadata": {},
   "source": []
  },
  {
   "cell_type": "code",
   "execution_count": 3,
   "metadata": {},
   "outputs": [
    {
     "name": "stdout",
     "output_type": "stream",
     "text": [
      "[*********************100%%**********************]  1 of 1 completed\n",
      "<class 'pandas.core.frame.DataFrame'>\n",
      "DatetimeIndex: 1257 entries, 2018-10-18 to 2023-10-17\n",
      "Data columns (total 6 columns):\n",
      " #   Column     Non-Null Count  Dtype  \n",
      "---  ------     --------------  -----  \n",
      " 0   Open       1257 non-null   float64\n",
      " 1   High       1257 non-null   float64\n",
      " 2   Low        1257 non-null   float64\n",
      " 3   Close      1257 non-null   float64\n",
      " 4   Adj Close  1257 non-null   float64\n",
      " 5   Volume     1257 non-null   int64  \n",
      "dtypes: float64(5), int64(1)\n",
      "memory usage: 68.7 KB\n",
      "None\n",
      "------------------------------------------------------------------------------------------------------------------------\n",
      "Dataframe: \n",
      "------------------------------------------------------------------------------------------------------------------------\n",
      "\n",
      "                 Open       High        Low      Close  Adj Close     Volume\n",
      "Date                                                                        \n",
      "2018-10-18  91.074501  91.507500  88.393501  88.536003  88.536003  117480000\n",
      "2018-10-19  89.258003  90.455002  87.650002  88.201500  88.201500  118144000\n",
      "2018-10-22  89.199997  90.474998  87.800003  89.464996  89.464996   90000000\n",
      "2018-10-23  87.112000  88.817001  85.699997  88.434998  88.434998  134478000\n",
      "2018-10-24  88.684998  88.885498  82.828003  83.209999  83.209999  138568000\n",
      "------------------------------------------------------------------------------------------------------------------------\n",
      "Series:\n",
      "------------------------------------------------------------------------------------------------------------------------\n",
      "Date\n",
      "2018-10-18    88.536003\n",
      "2018-10-19    88.201500\n",
      "2018-10-22    89.464996\n",
      "2018-10-23    88.434998\n",
      "2018-10-24    83.209999\n",
      "Name: Close, dtype: float64\n"
     ]
    }
   ],
   "source": [
    "import pandas as pd\n",
    "import yfinance as yf\n",
    "import datetime\n",
    "\n",
    "# Set the stock symbol and date range\n",
    "stock_symbol = \"AMZN\"\n",
    "end_date = datetime.date.today()\n",
    "start_date = end_date - pd.DateOffset(years=5)\n",
    "\n",
    "# Fetch the stock data from Yahoo Finance\n",
    "stock_data = yf.download(stock_symbol, start=start_date, end=end_date)\n",
    "print(stock_data.info())\n",
    "# Extract the closing prices for the last 2 years\n",
    "closing_prices_last_5_years = stock_data['Close']\n",
    "\n",
    "print(\"-\" * 120)\n",
    "print('Dataframe: ')\n",
    "print(\"-\" * 120)\n",
    "print()  # This will print an empty line\n",
    "                                                                    \n",
    "print(stock_data.head())\n",
    "\n",
    "print(\"-\" * 120)\n",
    "print('Series:')\n",
    "print(\"-\" * 120)\n",
    "\n",
    "print(closing_prices_last_5_years.head())\n",
    "\n"
   ]
  },
  {
   "cell_type": "markdown",
   "metadata": {},
   "source": [
    "# .shift() moving data between past and future\n"
   ]
  },
  {
   "cell_type": "code",
   "execution_count": 4,
   "metadata": {},
   "outputs": [
    {
     "name": "stdout",
     "output_type": "stream",
     "text": [
      "                Close  previous_day_close  next_day_close\n",
      "Date                                                     \n",
      "2018-10-18  88.536003                 NaN       88.201500\n",
      "2018-10-19  88.201500           88.536003       89.464996\n",
      "2018-10-22  89.464996           88.201500       88.434998\n",
      "2018-10-23  88.434998           89.464996       83.209999\n",
      "2018-10-24  83.209999           88.434998       89.108498\n",
      "<class 'pandas.core.frame.DataFrame'>\n",
      "DatetimeIndex: 1257 entries, 2018-10-18 to 2023-10-17\n",
      "Data columns (total 8 columns):\n",
      " #   Column              Non-Null Count  Dtype  \n",
      "---  ------              --------------  -----  \n",
      " 0   Open                1257 non-null   float64\n",
      " 1   High                1257 non-null   float64\n",
      " 2   Low                 1257 non-null   float64\n",
      " 3   Close               1257 non-null   float64\n",
      " 4   Adj Close           1257 non-null   float64\n",
      " 5   Volume              1257 non-null   int64  \n",
      " 6   previous_day_close  1256 non-null   float64\n",
      " 7   next_day_close      1256 non-null   float64\n",
      "dtypes: float64(7), int64(1)\n",
      "memory usage: 88.4 KB\n",
      "None\n"
     ]
    }
   ],
   "source": [
    "# .shift() moving data between past and future\n",
    "\n",
    "stock_data['previous_day_close'] = stock_data.Close.shift() # Moving ahead one period, Default periods=1\n",
    "stock_data['next_day_close'] = stock_data.Close.shift(periods=-1) # Moving back one period, Default periods=1\n",
    "print(stock_data[['Close', 'previous_day_close', 'next_day_close']].head())\n",
    "print(stock_data.info())"
   ]
  },
  {
   "cell_type": "markdown",
   "metadata": {},
   "source": [
    "# Calculate one-period precentage change\n",
    "\n",
    "Percentage Change = ((New Value - Old Value) / Old Value) * 100"
   ]
  },
  {
   "cell_type": "code",
   "execution_count": 10,
   "metadata": {},
   "outputs": [
    {
     "name": "stdout",
     "output_type": "stream",
     "text": [
      "                Close  previous_day_close  next_day_close  relative_change  \\\n",
      "Date                                                                         \n",
      "2018-10-18  88.536003                 NaN       88.201500              NaN   \n",
      "2018-10-19  88.201500           88.536003       89.464996         0.996222   \n",
      "2018-10-22  89.464996           88.201500       88.434998         1.014325   \n",
      "2018-10-23  88.434998           89.464996       83.209999         0.988487   \n",
      "2018-10-24  83.209999           88.434998       89.108498         0.940917   \n",
      "\n",
      "            percent_change_math  percent_change_link  \n",
      "Date                                                  \n",
      "2018-10-18                  NaN                  NaN  \n",
      "2018-10-19            -0.377816            -0.377816  \n",
      "2018-10-22             1.432511             1.432511  \n",
      "2018-10-23            -1.151287            -1.151287  \n",
      "2018-10-24            -5.908293            -5.908293  \n"
     ]
    }
   ],
   "source": [
    "stock_data['relative_change'] = stock_data.Close.div(stock_data.previous_day_close)\n",
    "\n",
    "# Option 1: Math\n",
    "stock_data['percent_change_math'] = ((stock_data['Close'] - stock_data['previous_day_close']) / stock_data['previous_day_close']) * 100\n",
    "# Option 2: chainging methods subtract 1 and multiple * 100\n",
    "stock_data['percent_change_link'] = stock_data.relative_change.sub(1).mul(100)\n",
    "\n",
    "print(stock_data[['Close', 'previous_day_close', 'next_day_close', 'relative_change', 'percent_change_math', 'percent_change_link']].head())"
   ]
  },
  {
   "cell_type": "markdown",
   "metadata": {},
   "source": [
    ".diff(): This is a pandas method used to calculate the difference between consecutive values in a Series (or column). It subtracts the current value from the previous value in the Series and stores the result in a new Series. In this case, it calculates the difference between each day's closing price and the closing price of the previous day"
   ]
  },
  {
   "cell_type": "code",
   "execution_count": 12,
   "metadata": {},
   "outputs": [
    {
     "name": "stdout",
     "output_type": "stream",
     "text": [
      "                Close  absolute_change\n",
      "Date                                  \n",
      "2018-10-18  88.536003              NaN\n",
      "2018-10-19  88.201500        -0.334503\n",
      "2018-10-22  89.464996         1.263496\n",
      "2018-10-23  88.434998        -1.029999\n",
      "2018-10-24  83.209999        -5.224998\n"
     ]
    }
   ],
   "source": [
    "# Diff\n",
    "\n",
    "stock_data['absolute_change'] = stock_data.Close.diff()\n",
    "print(stock_data[['Close',  'absolute_change']].head())\n",
    "\n",
    "stock_data['precent_change_absolute'] = (stock_data['absolute_change'] / stock_data['Close']) * 100"
   ]
  },
  {
   "cell_type": "code",
   "execution_count": null,
   "metadata": {},
   "outputs": [],
   "source": [
    "print(stock_data[['Close', 'previous_day_close', 'next_day_close', 'relative_change', 'percent_change_math', 'percent_change_link', 'precent_change_absolute']].head())"
   ]
  }
 ],
 "metadata": {
  "kernelspec": {
   "display_name": "time-series",
   "language": "python",
   "name": "python3"
  },
  "language_info": {
   "codemirror_mode": {
    "name": "ipython",
    "version": 3
   },
   "file_extension": ".py",
   "mimetype": "text/x-python",
   "name": "python",
   "nbconvert_exporter": "python",
   "pygments_lexer": "ipython3",
   "version": "3.11.5"
  }
 },
 "nbformat": 4,
 "nbformat_minor": 2
}
